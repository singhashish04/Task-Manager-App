{
 "cells": [
  {
   "cell_type": "code",
   "execution_count": 1,
   "id": "446e3a71",
   "metadata": {},
   "outputs": [
    {
     "name": "stdout",
     "output_type": "stream",
     "text": [
      "----WELCOME TO THE TASK MANAGEMENT APP----\n",
      "Enter how many tasks you want to add = 3\n",
      "Enter task 1 = Shopping\n",
      "Enter task 2 = Dancing\n",
      "Enter task 3 = Study\n",
      "Today's tasks are\n",
      "['Shopping', 'Dancing', 'Study']\n",
      "Enter \n",
      "1-Add\n",
      "2-Update\n",
      "3-Delete\n",
      "4-View\n",
      "5-Exit/Stop\n",
      "4\n",
      "Total tasks = ['Shopping', 'Dancing', 'Study']\n",
      "Enter \n",
      "1-Add\n",
      "2-Update\n",
      "3-Delete\n",
      "4-View\n",
      "5-Exit/Stop\n",
      "5\n",
      "Closing the program....\n"
     ]
    }
   ],
   "source": [
    "def task():\n",
    "    tasks = []  # Initialize an empty list to store tasks\n",
    "    print(\"----WELCOME TO THE TASK MANAGEMENT APP----\")\n",
    "    total_task = int(input(\"Enter how many tasks you want to add = \"))\n",
    "    for i in range(1, total_task + 1):\n",
    "        task_name = input(f\"Enter task {i} = \")\n",
    "        tasks.append(task_name)\n",
    "    print(f\"Today's tasks are\\n{tasks}\")\n",
    "    \n",
    "    while True:\n",
    "        try:\n",
    "            operation = int(input(\"Enter \\n1-Add\\n2-Update\\n3-Delete\\n4-View\\n5-Exit/Stop\\n\"))\n",
    "            if operation == 1:\n",
    "                add = input(\"Enter task you want to add = \")\n",
    "                tasks.append(add)\n",
    "                print(f\"Task '{add}' has been successfully added.\")\n",
    "            elif operation == 2:\n",
    "                updated_val = input(\"Enter the task name you want to update = \")\n",
    "                if updated_val in tasks:\n",
    "                    up = input(\"Enter new task = \")\n",
    "                    ind = tasks.index(updated_val)\n",
    "                    tasks[ind] = up\n",
    "                    print(f\"Updated task '{updated_val}' to '{up}'.\")\n",
    "                else:\n",
    "                    print(\"Task not found.\")\n",
    "            elif operation == 3:\n",
    "                del_val = input(\"Which task you want to delete = \")\n",
    "                if del_val in tasks:\n",
    "                    ind = tasks.index(del_val)\n",
    "                    del tasks[ind]\n",
    "                    print(f\"Task '{del_val}' has been deleted.\")\n",
    "                else:\n",
    "                    print(\"Task not found.\")\n",
    "            elif operation == 4:\n",
    "                print(f\"Total tasks = {tasks}\")\n",
    "            elif operation == 5:\n",
    "                print(\"Closing the program....\")\n",
    "                break\n",
    "            else:\n",
    "                print(\"Invalid Input. Please enter a number from 1 to 5.\")\n",
    "        except ValueError:\n",
    "            print(\"Invalid Input. Please enter a valid number.\")\n",
    "\n",
    "task()\n"
   ]
  },
  {
   "cell_type": "code",
   "execution_count": null,
   "id": "f5c1f7bb",
   "metadata": {},
   "outputs": [],
   "source": []
  }
 ],
 "metadata": {
  "kernelspec": {
   "display_name": "Python 3 (ipykernel)",
   "language": "python",
   "name": "python3"
  },
  "language_info": {
   "codemirror_mode": {
    "name": "ipython",
    "version": 3
   },
   "file_extension": ".py",
   "mimetype": "text/x-python",
   "name": "python",
   "nbconvert_exporter": "python",
   "pygments_lexer": "ipython3",
   "version": "3.11.7"
  }
 },
 "nbformat": 4,
 "nbformat_minor": 5
}
